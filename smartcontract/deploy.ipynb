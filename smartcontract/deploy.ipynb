{
 "cells": [
  {
   "cell_type": "markdown",
   "id": "ac8a88a4-741e-47e6-8402-67ecec12d74e",
   "metadata": {},
   "source": [
    "## Basic Importations"
   ]
  },
  {
   "cell_type": "code",
   "execution_count": 27,
   "id": "792951b5-4255-4241-9537-0f28af02a9a8",
   "metadata": {},
   "outputs": [
    {
     "data": {
      "text/plain": [
       "True"
      ]
     },
     "execution_count": 27,
     "metadata": {},
     "output_type": "execute_result"
    }
   ],
   "source": [
    "from crypto_price import approval_program, clear_state_program\n",
    "import base64\n",
    "import os\n",
    "\n",
    "from algosdk import mnemonic\n",
    "from algosdk.future import transaction\n",
    "from algosdk.v2client import algod\n",
    "from dotenv import load_dotenv\n",
    "from pyteal import *\n",
    "\n",
    "load_dotenv()"
   ]
  },
  {
   "cell_type": "markdown",
   "id": "dc1540c5-3328-4807-8dfc-59ebd4099544",
   "metadata": {},
   "source": [
    "### Purestake connection"
   ]
  },
  {
   "cell_type": "code",
   "execution_count": 28,
   "id": "8bde83b4-2dbf-45e9-9131-01461fcf53b5",
   "metadata": {},
   "outputs": [],
   "source": [
    "algod_address = os.getenv('PURESTAKE_API')"
   ]
  },
  {
   "cell_type": "markdown",
   "id": "1f68f1f7-c639-431f-952e-1b1e125d7907",
   "metadata": {},
   "source": [
    "### Add Token"
   ]
  },
  {
   "cell_type": "code",
   "execution_count": 29,
   "id": "dfe2c630-ccbc-4480-ae5a-a3c87562de93",
   "metadata": {},
   "outputs": [],
   "source": [
    "algod_token = os.getenv('PURESTAKE_TOKEN')\n",
    "headers = {\n",
    "    \"X-API-KEY\": algod_token\n",
    "}\n",
    "algod_client = algod.AlgodClient(algod_token, algod_address, headers)"
   ]
  },
  {
   "cell_type": "markdown",
   "id": "8c28e795-44e1-4ad6-913c-8c3e44cafdb3",
   "metadata": {},
   "source": [
    "# Setup the wallet"
   ]
  },
  {
   "cell_type": "code",
   "execution_count": 30,
   "id": "cdabe9a3-b8b9-43fc-89b9-42b04fd5d28d",
   "metadata": {},
   "outputs": [
    {
     "name": "stdout",
     "output_type": "stream",
     "text": [
      "Sender address: DGFE25IFWLNJ2AQ654PJH3RIEXIDOVKDJS5HYNABO4DFZECNISOVDX5RCE\n",
      "Account balance: 29998000 microAlgos\n"
     ]
    }
   ],
   "source": [
    "passphrase = os.getenv('WALLET_CREATOR')  # Put your passphrase here\n",
    "\n",
    "private_key = mnemonic.to_private_key(passphrase)\n",
    "sender = mnemonic.to_public_key(passphrase)\n",
    "print(\"Sender address: {}\".format(sender))\n",
    "\n",
    "account_info = algod_client.account_info(sender)\n",
    "print(\"Account balance: {} microAlgos\".format(account_info.get('amount')))"
   ]
  },
  {
   "cell_type": "markdown",
   "id": "6188fa44-5ed8-4d29-8929-6eef6e6f6c13",
   "metadata": {},
   "source": [
    "## Setup Smart contract data scheme"
   ]
  },
  {
   "cell_type": "code",
   "execution_count": 31,
   "id": "ef49e607-f442-4043-9eac-e734efb4ae5a",
   "metadata": {
    "tags": []
   },
   "outputs": [],
   "source": [
    "local_ints = 0\n",
    "local_bytes = 0\n",
    "global_ints = 60\n",
    "global_bytes = 1\n",
    "\n",
    "global_schema = transaction.StateSchema(global_ints, global_bytes)\n",
    "local_schema = transaction.StateSchema(local_ints, local_bytes)"
   ]
  },
  {
   "cell_type": "markdown",
   "id": "6040e40f-14ba-4ced-9517-6a1080ed789c",
   "metadata": {},
   "source": [
    "### Basic Txn config"
   ]
  },
  {
   "cell_type": "code",
   "execution_count": 32,
   "id": "020bf2bc-5df7-48a3-a7aa-0ccdcc66cb8a",
   "metadata": {
    "tags": []
   },
   "outputs": [],
   "source": [
    "params = algod_client.suggested_params()\n",
    "on_complete = transaction.OnComplete.NoOpOC.real"
   ]
  },
  {
   "cell_type": "markdown",
   "id": "7003a433-e785-404e-8c5d-cf32f37eda2f",
   "metadata": {
    "tags": []
   },
   "source": [
    "### Helper function that waits for a given txid to be confirmed by the network"
   ]
  },
  {
   "cell_type": "code",
   "execution_count": 33,
   "id": "2834ede0-2b8a-4c53-a92a-9fe743667005",
   "metadata": {},
   "outputs": [],
   "source": [
    "def wait_for_confirmation(client, txid):\n",
    "    last_round = client.status().get('last-round')\n",
    "    txinfo = client.pending_transaction_info(txid)\n",
    "    while not (txinfo.get('confirmed-round') and txinfo.get('confirmed-round') > 0):\n",
    "        print(\"Waiting for confirmation...\")\n",
    "        last_round += 1\n",
    "        client.status_after_block(last_round)\n",
    "        txinfo = client.pending_transaction_info(txid)\n",
    "    print(\"Transaction {} confirmed in round {}.\".format(\n",
    "        txid, txinfo.get('confirmed-round')))\n",
    "    return txinfo"
   ]
  },
  {
   "cell_type": "markdown",
   "id": "32a08157-4b63-4b92-a08e-dcc75a9dae32",
   "metadata": {},
   "source": [
    "# Compile pyteal code"
   ]
  },
  {
   "cell_type": "code",
   "execution_count": 34,
   "id": "0cfebf44-3bc6-4c71-b62f-7caa10db2adb",
   "metadata": {},
   "outputs": [],
   "source": [
    "approval_program_source_code = compileTeal(\n",
    "    approval_program(), Mode.Application, version=4)\n",
    "clear_state_program_source_code = compileTeal(\n",
    "    clear_state_program(), Mode.Application, version=4)\n",
    "\n",
    "\n",
    "def compile_program(source_code):\n",
    "    compile_response = algod_client.compile(source_code)\n",
    "    return base64.b64decode(compile_response['result'])\n",
    "    \n",
    "\n",
    "did_approval_program = compile_program(approval_program_source_code)\n",
    "did_clear_state_program = compile_program(clear_state_program_source_code)\n"
   ]
  },
  {
   "cell_type": "markdown",
   "id": "342cff94-3e28-4323-b1bf-74b6b8e5a301",
   "metadata": {},
   "source": [
    "### Create Txn to create the Dapp"
   ]
  },
  {
   "cell_type": "code",
   "execution_count": 35,
   "id": "4023efab-68fa-4cc9-9b74-8628ecdb8c1f",
   "metadata": {},
   "outputs": [],
   "source": [
    "txn = transaction.ApplicationCreateTxn(sender, params, on_complete, did_approval_program, did_clear_state_program,\n",
    "                                       global_schema, local_schema)"
   ]
  },
  {
   "cell_type": "markdown",
   "id": "29be03b2-4739-495f-9bcb-4500c3a49bc1",
   "metadata": {},
   "source": [
    "### Sign transaction"
   ]
  },
  {
   "cell_type": "code",
   "execution_count": 36,
   "id": "3ef2ae35-9551-44b6-84d0-cfcf93fd388f",
   "metadata": {},
   "outputs": [
    {
     "name": "stdout",
     "output_type": "stream",
     "text": [
      "IZY5E2UW5PNPHABXQMR4ZNBYQHKGKXL5TMXED5JSGAHEFUKG5NPQ\n"
     ]
    }
   ],
   "source": [
    "signed_txn = txn.sign(private_key)\n",
    "tx_id = signed_txn.transaction.get_txid()\n",
    "\n",
    "print(tx_id)"
   ]
  },
  {
   "cell_type": "markdown",
   "id": "e9bc7df4-38b0-47ac-b8f8-a56e1dff9546",
   "metadata": {},
   "source": [
    "### Send txn"
   ]
  },
  {
   "cell_type": "code",
   "execution_count": 37,
   "id": "9c2ff3e5-f74a-496c-86f9-add92d26169d",
   "metadata": {},
   "outputs": [
    {
     "data": {
      "text/plain": [
       "'IZY5E2UW5PNPHABXQMR4ZNBYQHKGKXL5TMXED5JSGAHEFUKG5NPQ'"
      ]
     },
     "execution_count": 37,
     "metadata": {},
     "output_type": "execute_result"
    }
   ],
   "source": [
    "algod_client.send_transactions([signed_txn])"
   ]
  },
  {
   "cell_type": "markdown",
   "id": "3cedfe64-374a-4479-811f-cbc384626309",
   "metadata": {},
   "source": [
    "### Await confirmation"
   ]
  },
  {
   "cell_type": "code",
   "execution_count": 38,
   "id": "d5911eb3-6d6f-4059-9470-9516c882ee0b",
   "metadata": {},
   "outputs": [
    {
     "name": "stdout",
     "output_type": "stream",
     "text": [
      "Waiting for confirmation...\n",
      "Transaction IZY5E2UW5PNPHABXQMR4ZNBYQHKGKXL5TMXED5JSGAHEFUKG5NPQ confirmed in round 19182067.\n"
     ]
    },
    {
     "data": {
      "text/plain": [
       "{'application-index': 62242291,\n",
       " 'confirmed-round': 19182067,\n",
       " 'global-state-delta': [{'key': 'Q3JlYXRvcg==',\n",
       "   'value': {'action': 1,\n",
       "    'bytes': 'GYpNdQWy2p0CHu8ek+4oJdA3VUNMunw0AXcGXJBNRJ0='}}],\n",
       " 'pool-error': '',\n",
       " 'txn': {'sig': '/Cr8Bk8T9CSP7xU3BSGDVisNPUJLhk6/DWnH9D//O+E153IkJXBiHUv/NjPjN+Xlyyw/M7dqc3rTKSjyDvpeDg==',\n",
       "  'txn': {'apap': 'BCADARAAJgEHQ3JlYXRvcjEYJBJAAz0xGSISQAMuMRmBBBJAAx4xGYEFEkADDjEZgQMSQAL+NhoAgA11cGRhdGVfc2xvdF8xEkACPjYaAIANdXBkYXRlX3Nsb3RfMhJAAX82GgCADXVwZGF0ZV9zbG90XzMSQAC8NhoAgA11cGRhdGVfc2xvdF80EkAAAQAxAChkEkQxGyMSRIADRU9TNhoBF2eABENBS0U2GgIXZ4ADU1RYNhoDF2eABEZMT1c2GgQXZ4ADTFJDNhoFF2eAA09ORTYaBhdngANCVFQ2GgcXZ4ADS1NNNhoIF2eAA01LUjYaCRdngANFTko2GgoXZ4ADQlNWNhoLF2eAA1FOVDYaDBdngANBTVA2Gg0XZ4ADS0RBNhoOF2eAA1hFQzYaDxdnIkMxAChkEkQxGyMSRIAESEJBUjYaARdngARCVENCNhoCF2eABVRIRVRBNhoDF2eABEVHTEQ2GgQXZ4ADSUNQNhoFF2eAA0VUQzYaBhdngAVNSU9UQTYaBxdngANYVFo2GggXZ4ADSE5UNhoJF2eAA1hNUjYaChdngARBQVZFNhoLF2eAA0xFTzYaDBdngARLTEFZNhoNF2eABEdBTEE2Gg4XZ4ADR1JUNhoPF2ciQzEAKGQSRDEbIxJEgANMVEM2GgEXZ4AETElOSzYaAhdngARBTEdPNhoDF2eAA0JDSDYaBBdngARORUFSNhoFF2eAA1RSWDYaBhdngANYTUw2GgcXZ4AETUFOQTYaCBdngANBWFM2GgkXZ4AEQVRPTTYaChdngANWRVQ2GgsXZ4ADRlRUNhoMF2eAA0ZUTTYaDRdngARTQU5ENhoOF2eAA0ZJTDYaDxdnIkMxAChkEkQxGyMSRIADQlRDNhoBF2eAA0VUSDYaAhdngANCTkI2GgMXZ4ADU09MNhoEF2eAA0FEQTYaBRdngANYUlA2GgYXZ4AETFVOQTYaBxdngANET1Q2GggXZ4AEQVZBWDYaCRdngARET0dFNhoKF2eABFNISUI2GgsXZ4AFTUFUSUM2GgwXZ4ADQ1JPNhoNF2eABFdCVEM2Gg4XZ4ADVU5JNhoPF2ciQzEAKGQSRCJDMQAoZBJEIkMxAChkEkQiQzEAKGQSRCJDKDEAZzEbJBJEIkM=',\n",
       "   'apgs': {'nbs': 1, 'nui': 60},\n",
       "   'apsu': 'BIEAQw==',\n",
       "   'fee': 1000,\n",
       "   'fv': 19182064,\n",
       "   'gen': 'testnet-v1.0',\n",
       "   'gh': 'SGO1GKSzyE7IEPItTxCByw9x8FmnrCDexi9/cOUJOiI=',\n",
       "   'lv': 19183064,\n",
       "   'snd': 'DGFE25IFWLNJ2AQ654PJH3RIEXIDOVKDJS5HYNABO4DFZECNISOVDX5RCE',\n",
       "   'type': 'appl'}}}"
      ]
     },
     "execution_count": 38,
     "metadata": {},
     "output_type": "execute_result"
    }
   ],
   "source": [
    "wait_for_confirmation(algod_client, tx_id)"
   ]
  },
  {
   "cell_type": "markdown",
   "id": "e7b713f8-a87d-49de-b0d9-2c214eaf71a4",
   "metadata": {},
   "source": [
    "### Display results"
   ]
  },
  {
   "cell_type": "code",
   "execution_count": 39,
   "id": "6847e67c-c255-45cd-a737-aa13f6c523c3",
   "metadata": {},
   "outputs": [
    {
     "name": "stdout",
     "output_type": "stream",
     "text": [
      "Created new app-id:  62242291\n"
     ]
    }
   ],
   "source": [
    "transaction_response = algod_client.pending_transaction_info(tx_id)\n",
    "app_id = transaction_response['application-index']\n",
    "print(\"Created new app-id: \", app_id)"
   ]
  }
 ],
 "metadata": {
  "kernelspec": {
   "display_name": "Python 3 (ipykernel)",
   "language": "python",
   "name": "python3"
  },
  "language_info": {
   "codemirror_mode": {
    "name": "ipython",
    "version": 3
   },
   "file_extension": ".py",
   "mimetype": "text/x-python",
   "name": "python",
   "nbconvert_exporter": "python",
   "pygments_lexer": "ipython3",
   "version": "3.10.1"
  }
 },
 "nbformat": 4,
 "nbformat_minor": 5
}
